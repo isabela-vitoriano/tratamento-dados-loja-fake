{
 "cells": [
  {
   "cell_type": "markdown",
   "metadata": {},
   "source": [
    "## Bibliotecas\n",
    "Antes de prosseguir, vamos importar as bibliotecas necessárias para nossa análise:"
   ]
  },
  {
   "cell_type": "code",
   "execution_count": 17,
   "metadata": {},
   "outputs": [],
   "source": [
    "# Manipulação de dados\n",
    "import pandas as pd\n",
    "\n",
    "# Requisições de APIs\n",
    "import requests\n",
    "\n",
    "# Conexão com Google Cloud, Big Query\n",
    "from pandas_gbq import to_gbq\n",
    "from google.oauth2 import service_account"
   ]
  },
  {
   "cell_type": "markdown",
   "metadata": {},
   "source": [
    "## Requisição de API\n",
    "Vamos iniciar importando a base de dados da Fake Store API.\n",
    "\n",
    "Para a análise que faremos, precisamos apenas dos endpoints do carrinho (carts) e dos produtos (products)."
   ]
  },
  {
   "cell_type": "code",
   "execution_count": 18,
   "metadata": {},
   "outputs": [],
   "source": [
    "def consumir_dados(endpoint):\n",
    "    \"\"\"\n",
    "    Função para consumir dados da API Fake Store.\n",
    "\n",
    "    Parâmetro:\n",
    "        endpoint : O endpoint da API a ser acessado (ex: \"products\" ou \"carts\").\n",
    "\n",
    "    Retorna: Os dados retornados pela API em formato JSON.\n",
    "    \"\"\"\n",
    "    url_base = \"https://fakestoreapi.com\"\n",
    "    url = f\"{url_base}/{endpoint}\"\n",
    "    \n",
    "    try:\n",
    "        response = requests.get(url)\n",
    "        dados = response.json()  # Converte a resposta para JSON\n",
    "        return dados\n",
    "    except requests.exceptions.RequestException as e:\n",
    "        print(f\"Erro ao acessar a API: {e}\")"
   ]
  },
  {
   "cell_type": "code",
   "execution_count": 19,
   "metadata": {},
   "outputs": [],
   "source": [
    "# Consumindo os dados dos carrinhos (carts)\n",
    "df_carrinhos = pd.DataFrame(consumir_dados('carts'))\n",
    "\n",
    "# Consumindo os dados dos produtos (products)\n",
    "df_produtos = pd.DataFrame(consumir_dados('products'))"
   ]
  },
  {
   "cell_type": "markdown",
   "metadata": {},
   "source": [
    "## Tratamento de bases\n",
    "Vamos tratar e unificar os dados para termos um dataframe limpo e organizado, seguindo os critérios estabelecidos:"
   ]
  },
  {
   "cell_type": "code",
   "execution_count": 20,
   "metadata": {},
   "outputs": [],
   "source": [
    "# No dataframe de carrinhos, transformando a coluna de lista em várias linhas\n",
    "df_carrinhos = df_carrinhos.explode('products').reset_index(drop=True)\n",
    "\n",
    "# Normalizando a coluna 'products', separando-a em duas colunas\n",
    "df_carrinhos_normalize = pd.json_normalize(df_carrinhos['products'])\n",
    "\n",
    "# Concatenando os dados normalizados com o dataFrame original\n",
    "df_carrinhos = pd.concat([df_carrinhos.drop(columns='products'), df_carrinhos_normalize], axis=1)\n"
   ]
  },
  {
   "cell_type": "code",
   "execution_count": 21,
   "metadata": {},
   "outputs": [],
   "source": [
    "# Criando base de data mais recente  em que o usuário adicionou produtos ao carrinho\n",
    "df_mais_recente = df_carrinhos.groupby('userId')['date'].max().reset_index()\n",
    "\n",
    "# Juntando bases de carrinhos e produtos\n",
    "df_joined = pd.merge(df_carrinhos, df_produtos, how='left', left_on='productId', right_on='id')\n",
    "\n",
    "# Agrupando e identificando a categoria em que cada usuário tem mais produtos adicionados ao carrinho\n",
    "df = (df_joined.groupby(['userId', 'category'])['quantity']\n",
    "      .sum()\n",
    "      .reset_index()\n",
    "      .loc[lambda x: x.groupby('userId')['quantity'].idxmax()]\n",
    "      .drop(columns=['quantity'])\n",
    "      )\n",
    "\n",
    "# Juntando base com data mais recente\n",
    "df = pd.merge(df, df_mais_recente, how='left', on='userId')\n",
    "\n",
    "# Dando nomes mais significativos às colunas\n",
    "df = df.rename(columns={\n",
    "    'date': 'data_ultima_adicao',\n",
    "    'category': 'categoria_mais_adicionada'\n",
    "})[['userId', 'data_ultima_adicao', 'categoria_mais_adicionada']]"
   ]
  },
  {
   "cell_type": "markdown",
   "metadata": {},
   "source": [
    "## Visualizando base final\n",
    "A base final deve conter as seguintes informações:\n",
    "\n",
    "- identificador de usuário\n",
    "\n",
    "- data mais recente em que o usuário adicionou produtos ao carrinho\n",
    "\n",
    "- categoria em que o usuário tem mais produtos adicionados ao carrinho\n",
    "\n",
    "Como podemos observar a seguir, todos os critérios foram cumpridos."
   ]
  },
  {
   "cell_type": "code",
   "execution_count": 22,
   "metadata": {},
   "outputs": [
    {
     "data": {
      "text/html": [
       "<div>\n",
       "<style scoped>\n",
       "    .dataframe tbody tr th:only-of-type {\n",
       "        vertical-align: middle;\n",
       "    }\n",
       "\n",
       "    .dataframe tbody tr th {\n",
       "        vertical-align: top;\n",
       "    }\n",
       "\n",
       "    .dataframe thead th {\n",
       "        text-align: right;\n",
       "    }\n",
       "</style>\n",
       "<table border=\"1\" class=\"dataframe\">\n",
       "  <thead>\n",
       "    <tr style=\"text-align: right;\">\n",
       "      <th></th>\n",
       "      <th>userId</th>\n",
       "      <th>data_ultima_adicao</th>\n",
       "      <th>categoria_mais_adicionada</th>\n",
       "    </tr>\n",
       "  </thead>\n",
       "  <tbody>\n",
       "    <tr>\n",
       "      <th>0</th>\n",
       "      <td>1</td>\n",
       "      <td>2020-03-02T00:00:00.000Z</td>\n",
       "      <td>men's clothing</td>\n",
       "    </tr>\n",
       "    <tr>\n",
       "      <th>1</th>\n",
       "      <td>2</td>\n",
       "      <td>2020-03-01T00:00:00.000Z</td>\n",
       "      <td>men's clothing</td>\n",
       "    </tr>\n",
       "    <tr>\n",
       "      <th>2</th>\n",
       "      <td>3</td>\n",
       "      <td>2020-03-01T00:00:00.000Z</td>\n",
       "      <td>men's clothing</td>\n",
       "    </tr>\n",
       "    <tr>\n",
       "      <th>3</th>\n",
       "      <td>4</td>\n",
       "      <td>2020-03-01T00:00:00.000Z</td>\n",
       "      <td>electronics</td>\n",
       "    </tr>\n",
       "    <tr>\n",
       "      <th>4</th>\n",
       "      <td>8</td>\n",
       "      <td>2020-03-01T00:00:00.000Z</td>\n",
       "      <td>women's clothing</td>\n",
       "    </tr>\n",
       "  </tbody>\n",
       "</table>\n",
       "</div>"
      ],
      "text/plain": [
       "   userId        data_ultima_adicao categoria_mais_adicionada\n",
       "0       1  2020-03-02T00:00:00.000Z            men's clothing\n",
       "1       2  2020-03-01T00:00:00.000Z            men's clothing\n",
       "2       3  2020-03-01T00:00:00.000Z            men's clothing\n",
       "3       4  2020-03-01T00:00:00.000Z               electronics\n",
       "4       8  2020-03-01T00:00:00.000Z          women's clothing"
      ]
     },
     "metadata": {},
     "output_type": "display_data"
    }
   ],
   "source": [
    "display(df)"
   ]
  },
  {
   "cell_type": "markdown",
   "metadata": {},
   "source": [
    "## Carregando base final\n",
    "Vamos carregar a base final para o BigQuery, bem como salvar a base em um CSV local\n"
   ]
  },
  {
   "cell_type": "code",
   "execution_count": null,
   "metadata": {},
   "outputs": [],
   "source": [
    "# Salvando em CSV\n",
    "df.to_csv('../data/arquivo_tratado.csv', index=False)\n",
    "\n",
    "# Carregando credenciais de conta google\n",
    "credentials = service_account.Credentials.from_service_account_file(\n",
    "    'GBQ.json',\n",
    ")\n",
    "\n",
    "# Parâmetros para o carregamento\n",
    "project_id = 'optical-realm-435117-k3' # Altere para o nome do seu projeto\n",
    "destination_table = 'bigquery_test.user_cart'\n",
    "\n",
    "# Carrega o DataFrame no BigQuery usando pandas_gbq.to_gbq\n",
    "to_gbq(df,\n",
    "       destination_table,\n",
    "       project_id = project_id,\n",
    "       if_exists = 'replace',\n",
    "       credentials = credentials)"
   ]
  }
 ],
 "metadata": {
  "kernelspec": {
   "display_name": "Python 3",
   "language": "python",
   "name": "python3"
  },
  "language_info": {
   "codemirror_mode": {
    "name": "ipython",
    "version": 3
   },
   "file_extension": ".py",
   "mimetype": "text/x-python",
   "name": "python",
   "nbconvert_exporter": "python",
   "pygments_lexer": "ipython3",
   "version": "3.12.7"
  }
 },
 "nbformat": 4,
 "nbformat_minor": 2
}
